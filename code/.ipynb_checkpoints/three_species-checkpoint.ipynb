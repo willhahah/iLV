{
 "cells": [
  {
   "cell_type": "code",
   "execution_count": 1,
   "id": "7695e81f-e234-4640-859a-ad438e83dcdd",
   "metadata": {},
   "outputs": [
    {
     "name": "stderr",
     "output_type": "stream",
     "text": [
      "WARNING (pytensor.tensor.blas): Using NumPy C-API based implementation for BLAS functions.\n"
     ]
    }
   ],
   "source": [
    "import arviz as az\n",
    "import matplotlib.pyplot as plt\n",
    "import numpy as np\n",
    "import pandas as pd\n",
    "import pymc as pm\n",
    "import pytensor\n",
    "import pytensor.tensor as pt\n",
    "\n",
    "from numba import njit\n",
    "from pymc.ode import DifferentialEquation\n",
    "from pytensor.compile.ops import as_op\n",
    "from scipy.integrate import odeint\n",
    "from scipy.optimize import least_squares\n",
    "from scipy.optimize import leastsq\n",
    "\n",
    "from sklearn import linear_model\n",
    "from numpy.linalg import norm\n",
    "\n",
    "import warnings\n",
    "warnings.filterwarnings('ignore')"
   ]
  },
  {
   "cell_type": "code",
   "execution_count": 2,
   "id": "35249410-4f19-44a2-a34c-d753616df9ac",
   "metadata": {},
   "outputs": [
    {
     "ename": "FileNotFoundError",
     "evalue": "[Errno 2] No such file or directory: '3species.csv'",
     "output_type": "error",
     "traceback": [
      "\u001b[1;31m---------------------------------------------------------------------------\u001b[0m",
      "\u001b[1;31mFileNotFoundError\u001b[0m                         Traceback (most recent call last)",
      "Input \u001b[1;32mIn [2]\u001b[0m, in \u001b[0;36m<cell line: 1>\u001b[1;34m()\u001b[0m\n\u001b[1;32m----> 1\u001b[0m df \u001b[38;5;241m=\u001b[39m \u001b[43mpd\u001b[49m\u001b[38;5;241;43m.\u001b[39;49m\u001b[43mread_csv\u001b[49m\u001b[43m(\u001b[49m\u001b[38;5;124;43m'\u001b[39;49m\u001b[38;5;124;43m3species.csv\u001b[39;49m\u001b[38;5;124;43m'\u001b[39;49m\u001b[43m)\u001b[49m\n\u001b[0;32m      2\u001b[0m \u001b[38;5;66;03m#df = df.iloc[:30, ]\u001b[39;00m\n\u001b[0;32m      3\u001b[0m \u001b[38;5;28mprint\u001b[39m(\u001b[38;5;28mlen\u001b[39m(df))\n",
      "File \u001b[1;32m~\\AppData\\Roaming\\Python\\Python310\\site-packages\\pandas\\io\\parsers\\readers.py:912\u001b[0m, in \u001b[0;36mread_csv\u001b[1;34m(filepath_or_buffer, sep, delimiter, header, names, index_col, usecols, dtype, engine, converters, true_values, false_values, skipinitialspace, skiprows, skipfooter, nrows, na_values, keep_default_na, na_filter, verbose, skip_blank_lines, parse_dates, infer_datetime_format, keep_date_col, date_parser, date_format, dayfirst, cache_dates, iterator, chunksize, compression, thousands, decimal, lineterminator, quotechar, quoting, doublequote, escapechar, comment, encoding, encoding_errors, dialect, on_bad_lines, delim_whitespace, low_memory, memory_map, float_precision, storage_options, dtype_backend)\u001b[0m\n\u001b[0;32m    899\u001b[0m kwds_defaults \u001b[38;5;241m=\u001b[39m _refine_defaults_read(\n\u001b[0;32m    900\u001b[0m     dialect,\n\u001b[0;32m    901\u001b[0m     delimiter,\n\u001b[1;32m   (...)\u001b[0m\n\u001b[0;32m    908\u001b[0m     dtype_backend\u001b[38;5;241m=\u001b[39mdtype_backend,\n\u001b[0;32m    909\u001b[0m )\n\u001b[0;32m    910\u001b[0m kwds\u001b[38;5;241m.\u001b[39mupdate(kwds_defaults)\n\u001b[1;32m--> 912\u001b[0m \u001b[38;5;28;01mreturn\u001b[39;00m \u001b[43m_read\u001b[49m\u001b[43m(\u001b[49m\u001b[43mfilepath_or_buffer\u001b[49m\u001b[43m,\u001b[49m\u001b[43m \u001b[49m\u001b[43mkwds\u001b[49m\u001b[43m)\u001b[49m\n",
      "File \u001b[1;32m~\\AppData\\Roaming\\Python\\Python310\\site-packages\\pandas\\io\\parsers\\readers.py:577\u001b[0m, in \u001b[0;36m_read\u001b[1;34m(filepath_or_buffer, kwds)\u001b[0m\n\u001b[0;32m    574\u001b[0m _validate_names(kwds\u001b[38;5;241m.\u001b[39mget(\u001b[38;5;124m\"\u001b[39m\u001b[38;5;124mnames\u001b[39m\u001b[38;5;124m\"\u001b[39m, \u001b[38;5;28;01mNone\u001b[39;00m))\n\u001b[0;32m    576\u001b[0m \u001b[38;5;66;03m# Create the parser.\u001b[39;00m\n\u001b[1;32m--> 577\u001b[0m parser \u001b[38;5;241m=\u001b[39m TextFileReader(filepath_or_buffer, \u001b[38;5;241m*\u001b[39m\u001b[38;5;241m*\u001b[39mkwds)\n\u001b[0;32m    579\u001b[0m \u001b[38;5;28;01mif\u001b[39;00m chunksize \u001b[38;5;129;01mor\u001b[39;00m iterator:\n\u001b[0;32m    580\u001b[0m     \u001b[38;5;28;01mreturn\u001b[39;00m parser\n",
      "File \u001b[1;32m~\\AppData\\Roaming\\Python\\Python310\\site-packages\\pandas\\io\\parsers\\readers.py:1407\u001b[0m, in \u001b[0;36mTextFileReader.__init__\u001b[1;34m(self, f, engine, **kwds)\u001b[0m\n\u001b[0;32m   1404\u001b[0m     \u001b[38;5;28mself\u001b[39m\u001b[38;5;241m.\u001b[39moptions[\u001b[38;5;124m\"\u001b[39m\u001b[38;5;124mhas_index_names\u001b[39m\u001b[38;5;124m\"\u001b[39m] \u001b[38;5;241m=\u001b[39m kwds[\u001b[38;5;124m\"\u001b[39m\u001b[38;5;124mhas_index_names\u001b[39m\u001b[38;5;124m\"\u001b[39m]\n\u001b[0;32m   1406\u001b[0m \u001b[38;5;28mself\u001b[39m\u001b[38;5;241m.\u001b[39mhandles: IOHandles \u001b[38;5;241m|\u001b[39m \u001b[38;5;28;01mNone\u001b[39;00m \u001b[38;5;241m=\u001b[39m \u001b[38;5;28;01mNone\u001b[39;00m\n\u001b[1;32m-> 1407\u001b[0m \u001b[38;5;28mself\u001b[39m\u001b[38;5;241m.\u001b[39m_engine \u001b[38;5;241m=\u001b[39m \u001b[38;5;28;43mself\u001b[39;49m\u001b[38;5;241;43m.\u001b[39;49m\u001b[43m_make_engine\u001b[49m\u001b[43m(\u001b[49m\u001b[43mf\u001b[49m\u001b[43m,\u001b[49m\u001b[43m \u001b[49m\u001b[38;5;28;43mself\u001b[39;49m\u001b[38;5;241;43m.\u001b[39;49m\u001b[43mengine\u001b[49m\u001b[43m)\u001b[49m\n",
      "File \u001b[1;32m~\\AppData\\Roaming\\Python\\Python310\\site-packages\\pandas\\io\\parsers\\readers.py:1661\u001b[0m, in \u001b[0;36mTextFileReader._make_engine\u001b[1;34m(self, f, engine)\u001b[0m\n\u001b[0;32m   1659\u001b[0m     \u001b[38;5;28;01mif\u001b[39;00m \u001b[38;5;124m\"\u001b[39m\u001b[38;5;124mb\u001b[39m\u001b[38;5;124m\"\u001b[39m \u001b[38;5;129;01mnot\u001b[39;00m \u001b[38;5;129;01min\u001b[39;00m mode:\n\u001b[0;32m   1660\u001b[0m         mode \u001b[38;5;241m+\u001b[39m\u001b[38;5;241m=\u001b[39m \u001b[38;5;124m\"\u001b[39m\u001b[38;5;124mb\u001b[39m\u001b[38;5;124m\"\u001b[39m\n\u001b[1;32m-> 1661\u001b[0m \u001b[38;5;28mself\u001b[39m\u001b[38;5;241m.\u001b[39mhandles \u001b[38;5;241m=\u001b[39m \u001b[43mget_handle\u001b[49m\u001b[43m(\u001b[49m\n\u001b[0;32m   1662\u001b[0m \u001b[43m    \u001b[49m\u001b[43mf\u001b[49m\u001b[43m,\u001b[49m\n\u001b[0;32m   1663\u001b[0m \u001b[43m    \u001b[49m\u001b[43mmode\u001b[49m\u001b[43m,\u001b[49m\n\u001b[0;32m   1664\u001b[0m \u001b[43m    \u001b[49m\u001b[43mencoding\u001b[49m\u001b[38;5;241;43m=\u001b[39;49m\u001b[38;5;28;43mself\u001b[39;49m\u001b[38;5;241;43m.\u001b[39;49m\u001b[43moptions\u001b[49m\u001b[38;5;241;43m.\u001b[39;49m\u001b[43mget\u001b[49m\u001b[43m(\u001b[49m\u001b[38;5;124;43m\"\u001b[39;49m\u001b[38;5;124;43mencoding\u001b[39;49m\u001b[38;5;124;43m\"\u001b[39;49m\u001b[43m,\u001b[49m\u001b[43m \u001b[49m\u001b[38;5;28;43;01mNone\u001b[39;49;00m\u001b[43m)\u001b[49m\u001b[43m,\u001b[49m\n\u001b[0;32m   1665\u001b[0m \u001b[43m    \u001b[49m\u001b[43mcompression\u001b[49m\u001b[38;5;241;43m=\u001b[39;49m\u001b[38;5;28;43mself\u001b[39;49m\u001b[38;5;241;43m.\u001b[39;49m\u001b[43moptions\u001b[49m\u001b[38;5;241;43m.\u001b[39;49m\u001b[43mget\u001b[49m\u001b[43m(\u001b[49m\u001b[38;5;124;43m\"\u001b[39;49m\u001b[38;5;124;43mcompression\u001b[39;49m\u001b[38;5;124;43m\"\u001b[39;49m\u001b[43m,\u001b[49m\u001b[43m \u001b[49m\u001b[38;5;28;43;01mNone\u001b[39;49;00m\u001b[43m)\u001b[49m\u001b[43m,\u001b[49m\n\u001b[0;32m   1666\u001b[0m \u001b[43m    \u001b[49m\u001b[43mmemory_map\u001b[49m\u001b[38;5;241;43m=\u001b[39;49m\u001b[38;5;28;43mself\u001b[39;49m\u001b[38;5;241;43m.\u001b[39;49m\u001b[43moptions\u001b[49m\u001b[38;5;241;43m.\u001b[39;49m\u001b[43mget\u001b[49m\u001b[43m(\u001b[49m\u001b[38;5;124;43m\"\u001b[39;49m\u001b[38;5;124;43mmemory_map\u001b[39;49m\u001b[38;5;124;43m\"\u001b[39;49m\u001b[43m,\u001b[49m\u001b[43m \u001b[49m\u001b[38;5;28;43;01mFalse\u001b[39;49;00m\u001b[43m)\u001b[49m\u001b[43m,\u001b[49m\n\u001b[0;32m   1667\u001b[0m \u001b[43m    \u001b[49m\u001b[43mis_text\u001b[49m\u001b[38;5;241;43m=\u001b[39;49m\u001b[43mis_text\u001b[49m\u001b[43m,\u001b[49m\n\u001b[0;32m   1668\u001b[0m \u001b[43m    \u001b[49m\u001b[43merrors\u001b[49m\u001b[38;5;241;43m=\u001b[39;49m\u001b[38;5;28;43mself\u001b[39;49m\u001b[38;5;241;43m.\u001b[39;49m\u001b[43moptions\u001b[49m\u001b[38;5;241;43m.\u001b[39;49m\u001b[43mget\u001b[49m\u001b[43m(\u001b[49m\u001b[38;5;124;43m\"\u001b[39;49m\u001b[38;5;124;43mencoding_errors\u001b[39;49m\u001b[38;5;124;43m\"\u001b[39;49m\u001b[43m,\u001b[49m\u001b[43m \u001b[49m\u001b[38;5;124;43m\"\u001b[39;49m\u001b[38;5;124;43mstrict\u001b[39;49m\u001b[38;5;124;43m\"\u001b[39;49m\u001b[43m)\u001b[49m\u001b[43m,\u001b[49m\n\u001b[0;32m   1669\u001b[0m \u001b[43m    \u001b[49m\u001b[43mstorage_options\u001b[49m\u001b[38;5;241;43m=\u001b[39;49m\u001b[38;5;28;43mself\u001b[39;49m\u001b[38;5;241;43m.\u001b[39;49m\u001b[43moptions\u001b[49m\u001b[38;5;241;43m.\u001b[39;49m\u001b[43mget\u001b[49m\u001b[43m(\u001b[49m\u001b[38;5;124;43m\"\u001b[39;49m\u001b[38;5;124;43mstorage_options\u001b[39;49m\u001b[38;5;124;43m\"\u001b[39;49m\u001b[43m,\u001b[49m\u001b[43m \u001b[49m\u001b[38;5;28;43;01mNone\u001b[39;49;00m\u001b[43m)\u001b[49m\u001b[43m,\u001b[49m\n\u001b[0;32m   1670\u001b[0m \u001b[43m\u001b[49m\u001b[43m)\u001b[49m\n\u001b[0;32m   1671\u001b[0m \u001b[38;5;28;01massert\u001b[39;00m \u001b[38;5;28mself\u001b[39m\u001b[38;5;241m.\u001b[39mhandles \u001b[38;5;129;01mis\u001b[39;00m \u001b[38;5;129;01mnot\u001b[39;00m \u001b[38;5;28;01mNone\u001b[39;00m\n\u001b[0;32m   1672\u001b[0m f \u001b[38;5;241m=\u001b[39m \u001b[38;5;28mself\u001b[39m\u001b[38;5;241m.\u001b[39mhandles\u001b[38;5;241m.\u001b[39mhandle\n",
      "File \u001b[1;32m~\\AppData\\Roaming\\Python\\Python310\\site-packages\\pandas\\io\\common.py:859\u001b[0m, in \u001b[0;36mget_handle\u001b[1;34m(path_or_buf, mode, encoding, compression, memory_map, is_text, errors, storage_options)\u001b[0m\n\u001b[0;32m    854\u001b[0m \u001b[38;5;28;01melif\u001b[39;00m \u001b[38;5;28misinstance\u001b[39m(handle, \u001b[38;5;28mstr\u001b[39m):\n\u001b[0;32m    855\u001b[0m     \u001b[38;5;66;03m# Check whether the filename is to be opened in binary mode.\u001b[39;00m\n\u001b[0;32m    856\u001b[0m     \u001b[38;5;66;03m# Binary mode does not support 'encoding' and 'newline'.\u001b[39;00m\n\u001b[0;32m    857\u001b[0m     \u001b[38;5;28;01mif\u001b[39;00m ioargs\u001b[38;5;241m.\u001b[39mencoding \u001b[38;5;129;01mand\u001b[39;00m \u001b[38;5;124m\"\u001b[39m\u001b[38;5;124mb\u001b[39m\u001b[38;5;124m\"\u001b[39m \u001b[38;5;129;01mnot\u001b[39;00m \u001b[38;5;129;01min\u001b[39;00m ioargs\u001b[38;5;241m.\u001b[39mmode:\n\u001b[0;32m    858\u001b[0m         \u001b[38;5;66;03m# Encoding\u001b[39;00m\n\u001b[1;32m--> 859\u001b[0m         handle \u001b[38;5;241m=\u001b[39m \u001b[38;5;28;43mopen\u001b[39;49m\u001b[43m(\u001b[49m\n\u001b[0;32m    860\u001b[0m \u001b[43m            \u001b[49m\u001b[43mhandle\u001b[49m\u001b[43m,\u001b[49m\n\u001b[0;32m    861\u001b[0m \u001b[43m            \u001b[49m\u001b[43mioargs\u001b[49m\u001b[38;5;241;43m.\u001b[39;49m\u001b[43mmode\u001b[49m\u001b[43m,\u001b[49m\n\u001b[0;32m    862\u001b[0m \u001b[43m            \u001b[49m\u001b[43mencoding\u001b[49m\u001b[38;5;241;43m=\u001b[39;49m\u001b[43mioargs\u001b[49m\u001b[38;5;241;43m.\u001b[39;49m\u001b[43mencoding\u001b[49m\u001b[43m,\u001b[49m\n\u001b[0;32m    863\u001b[0m \u001b[43m            \u001b[49m\u001b[43merrors\u001b[49m\u001b[38;5;241;43m=\u001b[39;49m\u001b[43merrors\u001b[49m\u001b[43m,\u001b[49m\n\u001b[0;32m    864\u001b[0m \u001b[43m            \u001b[49m\u001b[43mnewline\u001b[49m\u001b[38;5;241;43m=\u001b[39;49m\u001b[38;5;124;43m\"\u001b[39;49m\u001b[38;5;124;43m\"\u001b[39;49m\u001b[43m,\u001b[49m\n\u001b[0;32m    865\u001b[0m \u001b[43m        \u001b[49m\u001b[43m)\u001b[49m\n\u001b[0;32m    866\u001b[0m     \u001b[38;5;28;01melse\u001b[39;00m:\n\u001b[0;32m    867\u001b[0m         \u001b[38;5;66;03m# Binary mode\u001b[39;00m\n\u001b[0;32m    868\u001b[0m         handle \u001b[38;5;241m=\u001b[39m \u001b[38;5;28mopen\u001b[39m(handle, ioargs\u001b[38;5;241m.\u001b[39mmode)\n",
      "\u001b[1;31mFileNotFoundError\u001b[0m: [Errno 2] No such file or directory: '3species.csv'"
     ]
    }
   ],
   "source": [
    "df = pd.read_csv('3species.csv')\n",
    "#df = df.iloc[:30, ]\n",
    "print(len(df))\n",
    "print(df.iloc[0, -2])\n",
    "print(df.iloc[0, -1])"
   ]
  },
  {
   "cell_type": "code",
   "execution_count": null,
   "id": "8b5fd7e1-d313-4f55-b237-6abe6ee9ab0f",
   "metadata": {},
   "outputs": [],
   "source": [
    "#true_para = np.array([0.31, -0.6, 0.29, -0.01, 0.011, 0.009, -0.01, -0.012, 0.015, 0.3, 0.5, 0.2, 100])\n",
    "#true_para = np.array([0.21, -0.4, 0.19, -0.02, 0.016, 0.01, -0.014, -0.017, 0.02, 0.3, 0.5, 0.2, 100])\n",
    "time_seg = 1\n",
    "cur_time = np.arange(0, len(df), time_seg)\n",
    "num_point = len(df)\n",
    "#future_time = np.arange(0, 30, time_seg)\n",
    "num_iteration = 200\n",
    "n0_est = 1000000\n",
    "cur_time"
   ]
  },
  {
   "cell_type": "code",
   "execution_count": null,
   "id": "384e1f07-c75d-490d-abc7-6515770a2bc9",
   "metadata": {},
   "outputs": [],
   "source": [
    "# plot data function for reuse later\n",
    "def plot_data(ax, lw=0.1):\n",
    "    ax.plot(df.year, df.s1_abs, color=\"red\", lw=lw, marker=\"o\", markersize=2, label=\"N1\")\n",
    "    ax.plot(df.year, df.s2_abs, color=\"blue\", lw=lw, marker=\"+\", markersize=2, label=\"N2\")\n",
    "    ax.plot(df.year, df.s3_abs, color=\"green\", lw=lw, marker=\"+\", markersize=2, label=\"N3\")\n",
    "    ax.legend(fontsize=14, loc=\"center left\", bbox_to_anchor=(1, 0.5))\n",
    "    ax.set_xlim([0, len(cur_time)*time_seg])\n",
    "    ax.set_xlabel(\"Time\", fontsize=14)\n",
    "    ax.set_ylabel(\"Abs abundance\", fontsize=14)\n",
    "    ax.set_xticks(df.year.astype(int))\n",
    "    ax.set_xticklabels(ax.get_xticks(), rotation=45)\n",
    "    return ax\n",
    "\n",
    "# plot\n",
    "_, ax = plt.subplots(figsize=(12, 4))\n",
    "plot_data(ax, lw=0.6)"
   ]
  },
  {
   "cell_type": "code",
   "execution_count": null,
   "id": "cd4a04c9-d890-484f-ab09-e408c6fd9341",
   "metadata": {},
   "outputs": [],
   "source": [
    "# plot data function for reuse later\n",
    "def plot_data(ax, lw=0.1):\n",
    "    ax.plot(df.year, df.s1_rel, color=\"red\", lw=lw, marker=\"o\", markersize=2, label=\"N1\")\n",
    "    ax.plot(df.year, df.s2_rel, color=\"blue\", lw=lw, marker=\"+\", markersize=2, label=\"N2\")\n",
    "    ax.plot(df.year, df.s3_rel, color=\"green\", lw=lw, marker=\"+\", markersize=2, label=\"N3\")\n",
    "    ax.legend(fontsize=14, loc=\"center left\", bbox_to_anchor=(1, 0.5))\n",
    "    ax.set_xlim([0, len(cur_time)*time_seg])\n",
    "    ax.set_xlabel(\"Time\", fontsize=14)\n",
    "    ax.set_ylabel(\"Rel abundance\", fontsize=14)\n",
    "    ax.set_xticks(df.year.astype(int))\n",
    "    ax.set_xticklabels(ax.get_xticks(), rotation=45)\n",
    "    return ax\n",
    "\n",
    "# plot\n",
    "_, ax = plt.subplots(figsize=(12, 4))\n",
    "plot_data(ax, lw=0.6)"
   ]
  },
  {
   "cell_type": "code",
   "execution_count": null,
   "id": "aab398d1-a80e-4fc4-a18f-9764bfdbab29",
   "metadata": {},
   "outputs": [],
   "source": [
    "# define the right hand side of the ODE equations in the Scipy odeint signature\n",
    "from numba import njit\n",
    "\n",
    "\n",
    "@njit\n",
    "def rhs(X, t, theta):\n",
    "    # unpack parameters\n",
    "    x, y, z, n = X\n",
    "    r1, r2, r3, b12, b13, b21, b23, b31, b32, x0, y0, z0, n0 = theta\n",
    "    # equations\n",
    "    dn_dt = r1*x*n + b12*x*y*n*n + b13*x*z*n*n + r2*y*n + b21*x*y*n*n + b23*y*z*n*n + r3*z*n + b31*x*z*n*n + b32*y*z*n*n\n",
    "    dx_dt = (r1*x*n + b12*x*y*n*n + b13*x*z*n*n - x*dn_dt)/n\n",
    "    dy_dt = (r2*y*n + b21*x*y*n*n + b23*y*z*n*n - y*dn_dt)/n\n",
    "    dz_dt = (r3*z*n + b31*x*z*n*n + b32*y*z*n*n - z*dn_dt)/n\n",
    "    return [dx_dt, dy_dt, dz_dt, dn_dt]"
   ]
  },
  {
   "cell_type": "code",
   "execution_count": null,
   "id": "05b15bbc-96af-4ada-8a32-22c228dfe3b6",
   "metadata": {},
   "outputs": [],
   "source": [
    "# note theta = alpha, beta, gamma, delta, xt0, yt0\n",
    "#theta = true_para\n",
    "#time = cur_time\n",
    "\n",
    "# call Scipy's odeint function, \n",
    "#x_y = odeint(func=rhs, y0=theta[-4:], t=time, args=(theta,))"
   ]
  },
  {
   "cell_type": "code",
   "execution_count": null,
   "id": "3c2d9272-ce5c-434b-a487-8dc613c5f707",
   "metadata": {},
   "outputs": [],
   "source": [
    "data = pd.DataFrame(dict(\n",
    "    n1_relative = df[\"s1_rel\"],\n",
    "    n2_relative = df[\"s2_rel\"],\n",
    "    n3_relative = df[\"s3_rel\"],\n",
    "    n1_abs = df[\"s1_rel\"] * n0_est,\n",
    "    n2_abs = df[\"s2_rel\"] * n0_est, \n",
    "    n3_abs = df[\"s3_rel\"] * n0_est, \n",
    "))\n",
    "data"
   ]
  },
  {
   "cell_type": "code",
   "execution_count": null,
   "id": "7f0f8c6f-88c5-4053-96e4-527524e22cba",
   "metadata": {},
   "outputs": [],
   "source": [
    "for i in range (num_point-1):\n",
    "    data.loc[num_point+i] = (1/time_seg)*np.log(data.loc[i+1]) - (1/time_seg)*np.log(data.loc[i])"
   ]
  },
  {
   "cell_type": "code",
   "execution_count": null,
   "id": "47fb1f82-fc0f-4cde-8343-7c8cfd8a8bc0",
   "metadata": {},
   "outputs": [],
   "source": [
    "data"
   ]
  },
  {
   "cell_type": "code",
   "execution_count": null,
   "id": "9bba4999-5715-4c1f-8f32-1eed9f0ae2e4",
   "metadata": {},
   "outputs": [],
   "source": [
    "x = pd.DataFrame(data.loc[0:num_point-2, [\"n2_abs\", \"n3_abs\"]])\n",
    "y = pd.DataFrame(data.loc[num_point:2*num_point-2, \"n1_abs\"])\n",
    "\n",
    "regr = linear_model.LinearRegression()\n",
    "regr.fit(x, y)\n",
    "\n",
    "r1_ini = regr.intercept_[0]\n",
    "b12_ini = regr.coef_[0,0]\n",
    "b13_ini = regr.coef_[0,1]"
   ]
  },
  {
   "cell_type": "code",
   "execution_count": null,
   "id": "590aac2c-58d2-48a0-b6b1-d2c8af3a7246",
   "metadata": {},
   "outputs": [],
   "source": [
    "x = pd.DataFrame(data.loc[0:num_point-2, [\"n1_abs\", \"n3_abs\"]])\n",
    "y = pd.DataFrame(data.loc[num_point:2*num_point-2, \"n2_abs\"])\n",
    "\n",
    "regr = linear_model.LinearRegression()\n",
    "regr.fit(x, y)\n",
    "\n",
    "r2_ini = regr.intercept_[0]\n",
    "b21_ini = regr.coef_[0,0]\n",
    "b23_ini = regr.coef_[0,1]"
   ]
  },
  {
   "cell_type": "code",
   "execution_count": null,
   "id": "b28db88b-a171-4f9d-8041-912594d41888",
   "metadata": {},
   "outputs": [],
   "source": [
    "x = pd.DataFrame(data.loc[0:num_point-2, [\"n1_abs\", \"n2_abs\"]])\n",
    "y = pd.DataFrame(data.loc[num_point:2*num_point-2, \"n3_abs\"])\n",
    "\n",
    "regr = linear_model.LinearRegression()\n",
    "regr.fit(x, y)\n",
    "\n",
    "r3_ini = regr.intercept_[0]\n",
    "b31_ini = regr.coef_[0,0]\n",
    "b32_ini = regr.coef_[0,1]"
   ]
  },
  {
   "cell_type": "code",
   "execution_count": null,
   "id": "fa32ef4f-a8af-482c-b4a0-76dc2d7cb255",
   "metadata": {},
   "outputs": [],
   "source": [
    "theta_estimate = np.array([r1_ini, r2_ini, r3_ini, b12_ini, b13_ini, b21_ini, b23_ini, b31_ini, b32_ini, df.iloc[0, -3], df.iloc[0, -2], df.iloc[0, -1], n0_est])\n",
    "theta_estimate"
   ]
  },
  {
   "cell_type": "code",
   "execution_count": null,
   "id": "859c0266-0e3b-446d-82b5-85762260a179",
   "metadata": {},
   "outputs": [],
   "source": [
    "# call Scipy's odeint function, \n",
    "real_value = pd.DataFrame(dict(\n",
    "    n1_relative = df.iloc[:len(cur_time), -3],\n",
    "    n2_relative = df.iloc[:len(cur_time), -2],\n",
    "    n3_relative = df.iloc[:len(cur_time), -1],\n",
    "))\n",
    "real_value"
   ]
  },
  {
   "cell_type": "code",
   "execution_count": null,
   "id": "4aac002b-c04c-4d33-93e5-22a1d4de4950",
   "metadata": {},
   "outputs": [],
   "source": [
    "NM = num_iteration\n",
    "distance = [None] * NM\n",
    "distance_min = np.inf\n",
    "theta_min = theta_estimate\n",
    "\n",
    "for m in range(NM):\n",
    "    theta = theta_estimate\n",
    "    time = cur_time\n",
    "        \n",
    "    x_y_hat = odeint(func=rhs, y0=theta[-4:], t=time, args=(theta,))\n",
    "    dis_one = np.array(real_value.iloc[:, 0] - x_y_hat[:, 0])\n",
    "    dis_two = np.array(real_value.iloc[:, 1] - x_y_hat[:, 1])\n",
    "    dis_three = np.array(real_value.iloc[:, 2] - x_y_hat[:, 2])\n",
    "    distance[m] = (np.sum(np.abs(dis_one)) + np.sum(np.abs(dis_two)) + np.sum(np.abs(dis_three)))/num_point\n",
    "    if distance[m] < distance_min:\n",
    "        distance_min = distance[m]\n",
    "        theta_min = theta_estimate\n",
    "    \n",
    "    data = pd.DataFrame(dict(\n",
    "        n1_relative = np.array(x_y_hat[:, 0]),\n",
    "        n2_relative = np.array(x_y_hat[:, 1]),\n",
    "        n3_relative = np.array(x_y_hat[:, 2]),\n",
    "        absolute_sum = np.array(x_y_hat[:, 3]),\n",
    "        n1_abs = np.array(df[\"s1_rel\"]) * np.array(x_y_hat[:, 3]),\n",
    "        n2_abs = np.array(df[\"s2_rel\"]) * np.array(x_y_hat[:, 3]),\n",
    "        n3_abs = np.array(df[\"s3_rel\"]) * np.array(x_y_hat[:, 3]), \n",
    "))\n",
    "    for i in range (num_point-1):\n",
    "        data.loc[num_point+i] = (1/time_seg)*np.log(data.loc[i+1]) - (1/time_seg)*np.log(data.loc[i])  \n",
    "    \n",
    "    \n",
    "    x = pd.DataFrame(data.loc[0:num_point-2, [\"n2_abs\", \"n3_abs\"]])\n",
    "    y = pd.DataFrame(data.loc[num_point:2*num_point-2, \"n1_abs\"])\n",
    "    regr = linear_model.LinearRegression()\n",
    "    regr.fit(x, y)\n",
    "    r1_ini = regr.intercept_[0]\n",
    "    b12_ini = regr.coef_[0,0]\n",
    "    b13_ini = regr.coef_[0,1]\n",
    "    \n",
    "    x = pd.DataFrame(data.loc[0:num_point-2, [\"n1_abs\", \"n3_abs\"]])\n",
    "    y = pd.DataFrame(data.loc[num_point:2*num_point-2, \"n2_abs\"])\n",
    "    regr = linear_model.LinearRegression()\n",
    "    regr.fit(x, y)\n",
    "    r2_ini = regr.intercept_[0]\n",
    "    b21_ini = regr.coef_[0,0]\n",
    "    b23_ini = regr.coef_[0,1]\n",
    "    \n",
    "    x = pd.DataFrame(data.loc[0:num_point-2, [\"n1_abs\", \"n2_abs\"]])\n",
    "    y = pd.DataFrame(data.loc[num_point:2*num_point-2, \"n3_abs\"])\n",
    "    regr = linear_model.LinearRegression()\n",
    "    regr.fit(x, y)\n",
    "    r3_ini = regr.intercept_[0]\n",
    "    b31_ini = regr.coef_[0,0]\n",
    "    b32_ini = regr.coef_[0,1]\n",
    "    \n",
    "    theta_estimate = np.array([r1_ini, r2_ini, r3_ini, b12_ini, b13_ini, b21_ini, b23_ini, b31_ini, b32_ini, df.iloc[0, -3], df.iloc[0, -2], df.iloc[0, -1], n0_est])"
   ]
  },
  {
   "cell_type": "code",
   "execution_count": null,
   "id": "e19e622b-06d8-4990-9077-9aee24374162",
   "metadata": {},
   "outputs": [],
   "source": [
    "iter = np.arange(0, NM, 1)\n",
    "plt.scatter(iter, distance)\n",
    "plt.legend([\"distance\"])\n",
    "plt.ylabel(\"average distance\")\n",
    "plt.xlabel(\"iteration\")"
   ]
  },
  {
   "cell_type": "code",
   "execution_count": null,
   "id": "d5d7c1b5-628d-4e83-9b0f-ab830667ef6b",
   "metadata": {},
   "outputs": [],
   "source": [
    "theta_min"
   ]
  },
  {
   "cell_type": "code",
   "execution_count": null,
   "id": "f247ec68-d8b6-4d07-a079-464b3be9f292",
   "metadata": {},
   "outputs": [],
   "source": [
    "# plot model function\n",
    "def plot_model(\n",
    "    ax,\n",
    "    x_y,\n",
    "    time=cur_time,\n",
    "    alpha=0.2,\n",
    "    lw=0.6,\n",
    "):\n",
    "    ax.plot(time, x_y[:, 0], color=\"red\", alpha=alpha, lw=lw, label=\"N1\")\n",
    "    ax.plot(time, x_y[:, 1], color=\"blue\", alpha=alpha, lw=lw, label=\"N2\")\n",
    "    ax.plot(time, x_y[:, 1], color=\"green\", alpha=alpha, lw=lw, label=\"N3\")\n",
    "    ax.legend(fontsize=14, loc=\"center left\", bbox_to_anchor=(1, 0.5))\n",
    "    return ax"
   ]
  },
  {
   "cell_type": "code",
   "execution_count": null,
   "id": "604523c8-4999-4e58-851f-53aeeb405a8d",
   "metadata": {},
   "outputs": [],
   "source": [
    "# plot data function for reuse later\n",
    "def plot_data(ax, lw=0.1):\n",
    "    ax.plot(df.year, df.s1_rel, color=\"red\", lw=lw, marker=\"o\", markersize=2, label=\"N1\")\n",
    "    ax.plot(df.year, df.s2_rel, color=\"blue\", lw=lw, marker=\"+\", markersize=2, label=\"N2\")\n",
    "    ax.plot(df.year, df.s3_rel, color=\"green\", lw=lw, marker=\"^\", markersize=2, label=\"N3\")\n",
    "    ax.legend(fontsize=14, loc=\"center left\", bbox_to_anchor=(1, 0.5))\n",
    "    ax.set_xlim([0, len(cur_time)*time_seg])\n",
    "    ax.set_xlabel(\"Time\", fontsize=14)\n",
    "    ax.set_ylabel(\"Relative abundance\", fontsize=14)\n",
    "    ax.set_xticks(df.year.astype(int))\n",
    "    ax.set_xticklabels(ax.get_xticks(), rotation=45)\n",
    "    return ax"
   ]
  },
  {
   "cell_type": "code",
   "execution_count": null,
   "id": "4e11c0e8-5573-48c6-854d-98f3b2a70f48",
   "metadata": {},
   "outputs": [],
   "source": [
    "# function that calculates residuals based on a given theta\n",
    "def ode_model_resid(thetab):\n",
    "    return (\n",
    "        np.abs(df[[\"s1_rel\", \"s2_rel\", \"s3_rel\"]] - np.delete(odeint(func=rhs, y0=thetab[-4:], t=time, args=(thetab,)), -1, axis=1))\n",
    "    ).values.flatten()"
   ]
  },
  {
   "cell_type": "code",
   "execution_count": null,
   "id": "9d1fdd0f-fac0-452e-a97d-1efcff532254",
   "metadata": {},
   "outputs": [],
   "source": [
    "theta_est = theta_min\n",
    "results = least_squares(ode_model_resid, x0=theta_est)\n",
    "df = pd.DataFrame()\n",
    "parameter_names = [\"r1\", \"r2\", \"r3\", \"b12\", \"b13\", \"b21\", \"b23\", \"b31\", \"b32\", \"x0\", \"y0\", \"z0\", \"n0\"]\n",
    "least_sol[\"Parameter\"] = parameter_names\n",
    "least_sol [\"Least Squares Solution\"] = results.x\n",
    "least_sol"
   ]
  },
  {
   "cell_type": "code",
   "execution_count": null,
   "id": "82b87ed9-15f5-44b8-a745-ef6c3aa119f7",
   "metadata": {},
   "outputs": [],
   "source": [
    "theta = results.x\n",
    "time = cur_time\n",
    "\n",
    "# call Scipy's odeint function0.015, \n",
    "x_y = odeint(func=rhs, y0=theta[-4:], t=time, args=(theta,))\n",
    "\n",
    "# plot\n",
    "_, ax = plt.subplots(figsize=(12, 4))\n",
    "plot_model(ax, x_y);\n",
    "plot_data(ax, lw=0.6)"
   ]
  },
  {
   "cell_type": "code",
   "execution_count": null,
   "id": "f8589362-bbd0-4c66-b0ba-644aa620cb18",
   "metadata": {},
   "outputs": [],
   "source": [
    "@as_op(itypes=[pt.dvector], otypes=[pt.dmatrix])\n",
    "def pytensor_forward_model_matrix(theta):\n",
    "    return np.delete(odeint(func=rhs, y0=theta[-3:], t=time, args=(theta,)), -1, axis=1)"
   ]
  },
  {
   "cell_type": "code",
   "execution_count": null,
   "id": "5941d06b-3e0a-4ce6-a959-91730f51cfa4",
   "metadata": {},
   "outputs": [],
   "source": [
    "theta = results.x  # least squares solution used to inform the priors\n",
    "\n",
    "with pm.Model() as model:\n",
    "    # Priors\n",
    "    r1 = pm.Normal(\"r1\", mu=theta[0], sigma=(np.abs(theta[0]))/3, initval=theta[0])\n",
    "    r2 = pm.Normal(\"r2\", mu=theta[1], sigma=(np.abs(theta[1]))/3, initval=theta[1])\n",
    "    b12 = pm.Normal(\"b12\", mu=theta[2], sigma=(np.abs(theta[2]))/3, initval=theta[2])\n",
    "    b21 = pm.Normal(\"b21\", mu=theta[3], sigma=(np.abs(theta[3]))/3, initval=theta[3])\n",
    "    x0 = pm.TruncatedNormal(\"x0\", mu=theta[4], sigma=(np.abs(theta[4]))/3, lower=0, upper=1, initval=theta[4])\n",
    "    y0 = pm.TruncatedNormal(\"y0\", mu=theta[5], sigma=(np.abs(theta[5]))/3, lower=0, upper=1, initval=theta[5])\n",
    "    n0 = pm.TruncatedNormal(\"n0\", mu=theta[6], sigma=(np.abs(theta[6]))/3, lower=0, initval=theta[6])\n",
    "    sigma = pm.HalfNormal(\"sigma\", 0.3)\n",
    "\n",
    "    # Ode solution function\n",
    "    ode_solution = pytensor_forward_model_matrix(\n",
    "        pm.math.stack([r1, r2, b12, b21, x0, y0, n0])\n",
    "    )\n",
    "\n",
    "    # Likelihood\n",
    "    pm.Normal(\"Y_obs\", mu=ode_solution, sigma=sigma, observed=df[[\"hare_rel\", \"lynx_rel\"]].values)"
   ]
  },
  {
   "cell_type": "code",
   "execution_count": null,
   "id": "d58ac445-6aba-4d27-80c9-eb12cdeaaa54",
   "metadata": {},
   "outputs": [],
   "source": [
    "# Variable list to give to the sample step parameter\n",
    "vars_list = list(model.values_to_rvs.keys())[:-1]"
   ]
  },
  {
   "cell_type": "code",
   "execution_count": null,
   "id": "43ab82b0-96f2-4c32-bb57-48ccfa3790b7",
   "metadata": {},
   "outputs": [],
   "source": [
    "# Specify the sampler\n",
    "sampler = \"Slice Sampler\"\n",
    "tune = draws = 500\n",
    "\n",
    "# Inference!\n",
    "with model:\n",
    "    trace_slice = pm.sample(step=[pm.Slice(vars_list)], tune=tune, draws=draws, cores=1, chains=1)\n",
    "trace = trace_slice\n",
    "az.summary(trace, round_to=\"none\")"
   ]
  },
  {
   "cell_type": "code",
   "execution_count": null,
   "id": "d68f53bf-d779-4eb5-9cbd-3977ffa62a34",
   "metadata": {},
   "outputs": [],
   "source": [
    "theta_bb = np.array(az.summary(trace, round_to=\"none\").iloc[:, 0])\n",
    "theta_b = np.delete(theta_bb, -1)\n",
    "time = cur_time\n",
    "\n",
    "x_y = odeint(func=rhs, y0=theta_b[-3:], t=time, args=(theta_b,))\n",
    "\n",
    "# plot\n",
    "_, ax = plt.subplots(figsize=(12, 4))\n",
    "plot_model(ax, x_y);\n",
    "plot_data(ax, lw=0.6)"
   ]
  },
  {
   "cell_type": "markdown",
   "id": "ed4fa367-4a87-464e-8501-6a082acf411c",
   "metadata": {},
   "source": [
    "#### "
   ]
  }
 ],
 "metadata": {
  "kernelspec": {
   "display_name": "Python 3 (ipykernel)",
   "language": "python",
   "name": "python3"
  },
  "language_info": {
   "codemirror_mode": {
    "name": "ipython",
    "version": 3
   },
   "file_extension": ".py",
   "mimetype": "text/x-python",
   "name": "python",
   "nbconvert_exporter": "python",
   "pygments_lexer": "ipython3",
   "version": "3.10.6"
  }
 },
 "nbformat": 4,
 "nbformat_minor": 5
}
