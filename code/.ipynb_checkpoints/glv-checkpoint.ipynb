{
 "cells": [
  {
   "cell_type": "code",
   "execution_count": 1,
   "id": "7695e81f-e234-4640-859a-ad438e83dcdd",
   "metadata": {},
   "outputs": [
    {
     "name": "stderr",
     "output_type": "stream",
     "text": [
      "WARNING (pytensor.configdefaults): g++ not available, if using conda: `conda install m2w64-toolchain`\n",
      "WARNING (pytensor.configdefaults): g++ not detected!  PyTensor will be unable to compile C-implementations and will default to Python. Performance may be severely degraded. To remove this warning, set PyTensor flags cxx to an empty string.\n",
      "WARNING (pytensor.tensor.blas): Using NumPy C-API based implementation for BLAS functions.\n"
     ]
    }
   ],
   "source": [
    "import arviz as az\n",
    "import matplotlib.pyplot as plt\n",
    "import numpy as np\n",
    "import pandas as pd\n",
    "import pymc as pm\n",
    "import pytensor\n",
    "import pytensor.tensor as pt\n",
    "\n",
    "from numba import njit\n",
    "from pymc.ode import DifferentialEquation\n",
    "from pytensor.compile.ops import as_op\n",
    "from scipy.integrate import odeint\n",
    "from scipy.optimize import least_squares\n",
    "from scipy.optimize import leastsq\n",
    "\n",
    "from sklearn import linear_model\n",
    "from numpy.linalg import norm\n",
    "\n",
    "from numpy import dot\n",
    "from numpy.linalg import norm\n",
    "\n",
    "import warnings\n",
    "warnings.filterwarnings('ignore')\n",
    "\n",
    "import random\n",
    "random.seed(10)"
   ]
  },
  {
   "cell_type": "code",
   "execution_count": 2,
   "id": "d121c7f5-d5c1-40ec-b796-24871bd3f4cb",
   "metadata": {},
   "outputs": [],
   "source": [
    "distance_sq = [None] * 20\n",
    "distance_trf = [None] * 20\n",
    "distance_lm = [None] * 20\n",
    "cosiner_sq = [None] * 20\n",
    "cosineb_sq = [None] * 20\n",
    "cosiner_trf = [None] * 20\n",
    "cosineb_trf = [None] * 20\n",
    "cosiner_lm = [None] * 20\n",
    "cosineb_lm = [None] * 20"
   ]
  },
  {
   "cell_type": "code",
   "execution_count": 3,
   "id": "f02e6066-4235-4b8f-b219-2de776cda539",
   "metadata": {},
   "outputs": [],
   "source": [
    "random.seed(10)\n",
    "true_para = np.array([0.31, -0.6, 0.29, -0.01, 0.011, 0.009, -0.01, -0.012, 0.015, 0.3, 0.5, 0.2, 100])\n",
    "#true_para = np.array([0.21, -0.4, 0.19, -0.02, 0.016, 0.01, -0.014, -0.017, 0.02, 0.3, 0.5, 0.2, 100])\n",
    "time_seg = 0.5\n",
    "cur_time = np.arange(0, 10+time_seg, time_seg)\n",
    "num_point = len(cur_time)\n",
    "num_iteration = 100\n",
    "n0_est = 100\n",
    "#noise_scale = 0.05\n",
    "    \n",
    "# define the right hand side of the ODE equations in the Scipy odeint signature\n",
    "from numba import njit\n",
    "\n",
    "\n",
    "@njit\n",
    "def rhs(X, t, theta):\n",
    "    # unpack parameters\n",
    "    x, y, z, n = X\n",
    "    r1, r2, r3, b12, b13, b21, b23, b31, b32, x0, y0, z0, n0 = theta\n",
    "    # equations\n",
    "    dn_dt = r1*x*n + b12*x*y*n*n + b13*x*z*n*n + r2*y*n + b21*x*y*n*n + b23*y*z*n*n + r3*z*n + b31*x*z*n*n + b32*y*z*n*n\n",
    "    dx_dt = (r1*x*n + b12*x*y*n*n + b13*x*z*n*n - x*dn_dt)/n\n",
    "    dy_dt = (r2*y*n + b21*x*y*n*n + b23*y*z*n*n - y*dn_dt)/n\n",
    "    dz_dt = (r3*z*n + b31*x*z*n*n + b32*y*z*n*n - z*dn_dt)/n\n",
    "    return [dx_dt, dy_dt, dz_dt, dn_dt]\n",
    "    \n",
    "# note theta = alpha, beta, gamma, delta, xt0, yt0\n",
    "theta = true_para\n",
    "time = cur_time\n",
    "\n",
    "# call Scipy's odeint function, \n",
    "x_y = odeint(func=rhs, y0=theta[-4:], t=time, args=(theta,))\n",
    "    \n",
    "real_value = pd.DataFrame(dict(\n",
    "    n1_relative = np.array(x_y[:, 0]),\n",
    "    n2_relative = np.array(x_y[:, 1]),\n",
    "    n3_relative = np.array(x_y[:, 2]),\n",
    "    ))"
   ]
  },
  {
   "cell_type": "code",
   "execution_count": 4,
   "id": "b0762fa7-2782-4ea2-bf99-f862d44dc576",
   "metadata": {},
   "outputs": [],
   "source": [
    "min_distance = np.inf\n",
    "min_theta = true_para\n",
    "method_used = \"None\"\n",
    "\n",
    "for k in range (1):\n",
    "\n",
    "    from numba import njit\n",
    "\n",
    "\n",
    "    @njit\n",
    "    def rhs(X, t, theta):\n",
    "        # unpack parameters\n",
    "        x, y, z, n = X\n",
    "        r1, r2, r3, b12, b13, b21, b23, b31, b32, x0, y0, z0, n0 = theta\n",
    "        # equations\n",
    "        dn_dt = r1*x*n + b12*x*y*n*n + b13*x*z*n*n + r2*y*n + b21*x*y*n*n + b23*y*z*n*n + r3*z*n + b31*x*z*n*n + b32*y*z*n*n\n",
    "        dx_dt = (r1*x*n + b12*x*y*n*n + b13*x*z*n*n - x*dn_dt)/n\n",
    "        dy_dt = (r2*y*n + b21*x*y*n*n + b23*y*z*n*n - y*dn_dt)/n\n",
    "        dz_dt = (r3*z*n + b31*x*z*n*n + b32*y*z*n*n - z*dn_dt)/n\n",
    "        return [dx_dt, dy_dt, dz_dt, dn_dt]\n",
    "    \n",
    "    \n",
    "    data = pd.DataFrame(dict(\n",
    "    n1_relative = np.array(real_value.iloc[:, 0]),\n",
    "    n2_relative = np.array(real_value.iloc[:, 1]),\n",
    "    n3_relative = np.array(real_value.iloc[:, 2]),\n",
    "    n1_abs = np.array(real_value.iloc[:, 0]) * n0_est,\n",
    "    n2_abs = np.array(real_value.iloc[:, 1]) * n0_est,\n",
    "    n3_abs = np.array(real_value.iloc[:, 2]) * n0_est, \n",
    "    ))\n",
    "    \n",
    "    for i in range (num_point-1):\n",
    "        data.loc[num_point+i] = (1/time_seg)*np.log(data.loc[i+1]) - (1/time_seg)*np.log(data.loc[i])\n",
    "    \n",
    "    \n",
    "    x = pd.DataFrame(data.loc[0:num_point-2, [\"n2_abs\", \"n3_abs\"]])\n",
    "    y = pd.DataFrame(data.loc[num_point:2*num_point-2, \"n1_abs\"])\n",
    "\n",
    "    regr = linear_model.LinearRegression()\n",
    "    regr.fit(x, y)\n",
    "\n",
    "    r1_ini = regr.intercept_[0]\n",
    "    b12_ini = regr.coef_[0,0]\n",
    "    b13_ini = regr.coef_[0,1]\n",
    "    \n",
    "    x = pd.DataFrame(data.loc[0:num_point-2, [\"n1_abs\", \"n3_abs\"]])\n",
    "    y = pd.DataFrame(data.loc[num_point:2*num_point-2, \"n2_abs\"])\n",
    "\n",
    "    regr = linear_model.LinearRegression()\n",
    "    regr.fit(x, y)\n",
    "\n",
    "    r2_ini = regr.intercept_[0]\n",
    "    b21_ini = regr.coef_[0,0]\n",
    "    b23_ini = regr.coef_[0,1]\n",
    "    \n",
    "    x = pd.DataFrame(data.loc[0:num_point-2, [\"n1_abs\", \"n2_abs\"]])\n",
    "    y = pd.DataFrame(data.loc[num_point:2*num_point-2, \"n3_abs\"])\n",
    "\n",
    "    regr = linear_model.LinearRegression()\n",
    "    regr.fit(x, y)\n",
    "\n",
    "    r3_ini = regr.intercept_[0]\n",
    "    b31_ini = regr.coef_[0,0]\n",
    "    b32_ini = regr.coef_[0,1]\n",
    "    \n",
    "    theta_estimate = np.array([b12_ini, b13_ini, b21_ini, b23_ini, b31_ini, b32_ini])\n",
    "    "
   ]
  },
  {
   "cell_type": "code",
   "execution_count": 5,
   "id": "f365be5c-893e-44fb-9797-87b7f8fb1b0a",
   "metadata": {},
   "outputs": [
    {
     "data": {
      "text/plain": [
       "0.8831121779816301"
      ]
     },
     "execution_count": 5,
     "metadata": {},
     "output_type": "execute_result"
    }
   ],
   "source": [
    "cosineb = dot(theta_estimate, true_para[3:9])/(norm(theta_estimate)*norm(true_para[3:9]))\n",
    "cosineb"
   ]
  }
 ],
 "metadata": {
  "kernelspec": {
   "display_name": "Python 3 (ipykernel)",
   "language": "python",
   "name": "python3"
  },
  "language_info": {
   "codemirror_mode": {
    "name": "ipython",
    "version": 3
   },
   "file_extension": ".py",
   "mimetype": "text/x-python",
   "name": "python",
   "nbconvert_exporter": "python",
   "pygments_lexer": "ipython3",
   "version": "3.12.4"
  }
 },
 "nbformat": 4,
 "nbformat_minor": 5
}
