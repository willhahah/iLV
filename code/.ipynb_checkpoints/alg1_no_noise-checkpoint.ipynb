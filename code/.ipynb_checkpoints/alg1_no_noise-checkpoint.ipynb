{
 "cells": [
  {
   "cell_type": "code",
   "execution_count": 1,
   "id": "7695e81f-e234-4640-859a-ad438e83dcdd",
   "metadata": {},
   "outputs": [
    {
     "name": "stderr",
     "output_type": "stream",
     "text": [
      "WARNING (pytensor.configdefaults): g++ not available, if using conda: `conda install m2w64-toolchain`\n",
      "WARNING (pytensor.configdefaults): g++ not detected!  PyTensor will be unable to compile C-implementations and will default to Python. Performance may be severely degraded. To remove this warning, set PyTensor flags cxx to an empty string.\n",
      "WARNING (pytensor.tensor.blas): Using NumPy C-API based implementation for BLAS functions.\n"
     ]
    }
   ],
   "source": [
    "import arviz as az\n",
    "import matplotlib.pyplot as plt\n",
    "import numpy as np\n",
    "import pandas as pd\n",
    "import pymc as pm\n",
    "import pytensor\n",
    "import pytensor.tensor as pt\n",
    "\n",
    "from numba import njit\n",
    "from pymc.ode import DifferentialEquation\n",
    "from pytensor.compile.ops import as_op\n",
    "from scipy.integrate import odeint\n",
    "from scipy.optimize import least_squares\n",
    "from scipy.optimize import leastsq\n",
    "\n",
    "from sklearn import linear_model\n",
    "from numpy.linalg import norm\n",
    "\n",
    "from numpy import dot\n",
    "from numpy.linalg import norm\n",
    "\n",
    "import warnings\n",
    "warnings.filterwarnings('ignore')\n",
    "\n",
    "import random\n",
    "random.seed(10)"
   ]
  },
  {
   "cell_type": "code",
   "execution_count": 2,
   "id": "f02e6066-4235-4b8f-b219-2de776cda539",
   "metadata": {},
   "outputs": [],
   "source": [
    "random.seed(10)\n",
    "true_para = np.array([0.31, -0.6, 0.29, -0.01, 0.011, 0.009, -0.01, -0.012, 0.015, 0.3, 0.5, 0.2, 100])\n",
    "#true_para = np.array([0.21, -0.4, 0.19, -0.02, 0.016, 0.01, -0.014, -0.017, 0.02, 0.3, 0.5, 0.2, 100])\n",
    "time_seg = 0.1\n",
    "cur_time = np.arange(0, 5+time_seg, time_seg)\n",
    "num_point = len(cur_time)\n",
    "num_iteration = 100\n",
    "num_run = 20\n",
    "n0_est = 200\n",
    "\n",
    "distance_sq = [None] * num_run\n",
    "distance_trf = [None] * num_run\n",
    "distance_lm = [None] * num_run\n",
    "cosiner_sq = [None] * num_run\n",
    "cosineb_sq = [None] * num_run\n",
    "cosiner_trf = [None] * num_run\n",
    "cosineb_trf = [None] * num_run\n",
    "cosiner_lm = [None] * num_run\n",
    "cosineb_lm = [None] * num_run\n",
    "    \n",
    "# define the right hand side of the ODE equations in the Scipy odeint signature\n",
    "from numba import njit\n",
    "\n",
    "\n",
    "@njit\n",
    "def rhs(X, t, theta):\n",
    "    # unpack parameters\n",
    "    x, y, z, n = X\n",
    "    r1, r2, r3, b12, b13, b21, b23, b31, b32, x0, y0, z0, n0 = theta\n",
    "    # equations\n",
    "    dn_dt = r1*x*n + b12*x*y*n*n + b13*x*z*n*n + r2*y*n + b21*x*y*n*n + b23*y*z*n*n + r3*z*n + b31*x*z*n*n + b32*y*z*n*n\n",
    "    dx_dt = (r1*x*n + b12*x*y*n*n + b13*x*z*n*n - x*dn_dt)/n\n",
    "    dy_dt = (r2*y*n + b21*x*y*n*n + b23*y*z*n*n - y*dn_dt)/n\n",
    "    dz_dt = (r3*z*n + b31*x*z*n*n + b32*y*z*n*n - z*dn_dt)/n\n",
    "    return [dx_dt, dy_dt, dz_dt, dn_dt]\n",
    "    \n",
    "# note theta = alpha, beta, gamma, delta, xt0, yt0\n",
    "theta = true_para\n",
    "time = cur_time\n",
    "\n",
    "# call Scipy's odeint function, \n",
    "x_y = odeint(func=rhs, y0=theta[-4:], t=time, args=(theta,))\n",
    "    \n",
    "real_value = pd.DataFrame(dict(\n",
    "    n1_relative = np.array(x_y[:, 0]),\n",
    "    n2_relative = np.array(x_y[:, 1]),\n",
    "    n3_relative = np.array(x_y[:, 2]),\n",
    "    ))"
   ]
  },
  {
   "cell_type": "code",
   "execution_count": 3,
   "id": "b0762fa7-2782-4ea2-bf99-f862d44dc576",
   "metadata": {},
   "outputs": [],
   "source": [
    "min_distance = np.inf\n",
    "min_theta = true_para\n",
    "method_used = \"None\"\n",
    "\n",
    "for k in range (num_run):\n",
    "\n",
    "    from numba import njit\n",
    "\n",
    "\n",
    "    @njit\n",
    "    def rhs(X, t, theta):\n",
    "        # unpack parameters\n",
    "        x, y, z, n = X\n",
    "        r1, r2, r3, b12, b13, b21, b23, b31, b32, x0, y0, z0, n0 = theta\n",
    "        # equations\n",
    "        dn_dt = r1*x*n + b12*x*y*n*n + b13*x*z*n*n + r2*y*n + b21*x*y*n*n + b23*y*z*n*n + r3*z*n + b31*x*z*n*n + b32*y*z*n*n\n",
    "        dx_dt = (r1*x*n + b12*x*y*n*n + b13*x*z*n*n - x*dn_dt)/n\n",
    "        dy_dt = (r2*y*n + b21*x*y*n*n + b23*y*z*n*n - y*dn_dt)/n\n",
    "        dz_dt = (r3*z*n + b31*x*z*n*n + b32*y*z*n*n - z*dn_dt)/n\n",
    "        return [dx_dt, dy_dt, dz_dt, dn_dt]\n",
    "    \n",
    "    \n",
    "    data = pd.DataFrame(dict(\n",
    "    n1_relative = np.array(real_value.iloc[:, 0]),\n",
    "    n2_relative = np.array(real_value.iloc[:, 1]),\n",
    "    n3_relative = np.array(real_value.iloc[:, 2]),\n",
    "    n1_abs = np.array(real_value.iloc[:, 0]) * n0_est,\n",
    "    n2_abs = np.array(real_value.iloc[:, 1]) * n0_est,\n",
    "    n3_abs = np.array(real_value.iloc[:, 2]) * n0_est, \n",
    "    ))\n",
    "    \n",
    "    for i in range (num_point-1):\n",
    "        data.loc[num_point+i] = (1/time_seg)*np.log(data.loc[i+1]) - (1/time_seg)*np.log(data.loc[i])\n",
    "    \n",
    "    \n",
    "    x = pd.DataFrame(data.loc[0:num_point-2, [\"n2_abs\", \"n3_abs\"]])\n",
    "    y = pd.DataFrame(data.loc[num_point:2*num_point-2, \"n1_abs\"])\n",
    "\n",
    "    regr = linear_model.LinearRegression()\n",
    "    regr.fit(x, y)\n",
    "\n",
    "    r1_ini = regr.intercept_[0]\n",
    "    b12_ini = regr.coef_[0,0]\n",
    "    b13_ini = regr.coef_[0,1]\n",
    "    \n",
    "    x = pd.DataFrame(data.loc[0:num_point-2, [\"n1_abs\", \"n3_abs\"]])\n",
    "    y = pd.DataFrame(data.loc[num_point:2*num_point-2, \"n2_abs\"])\n",
    "\n",
    "    regr = linear_model.LinearRegression()\n",
    "    regr.fit(x, y)\n",
    "\n",
    "    r2_ini = regr.intercept_[0]\n",
    "    b21_ini = regr.coef_[0,0]\n",
    "    b23_ini = regr.coef_[0,1]\n",
    "    \n",
    "    x = pd.DataFrame(data.loc[0:num_point-2, [\"n1_abs\", \"n2_abs\"]])\n",
    "    y = pd.DataFrame(data.loc[num_point:2*num_point-2, \"n3_abs\"])\n",
    "\n",
    "    regr = linear_model.LinearRegression()\n",
    "    regr.fit(x, y)\n",
    "\n",
    "    r3_ini = regr.intercept_[0]\n",
    "    b31_ini = regr.coef_[0,0]\n",
    "    b32_ini = regr.coef_[0,1]\n",
    "    \n",
    "    theta_estimate = np.array([r1_ini, r2_ini, r3_ini, b12_ini, b13_ini, b21_ini, b23_ini, b31_ini, b32_ini, true_para[-4], true_para[-3], true_para[-2], n0_est])\n",
    "    \n",
    "    \n",
    "    theta = theta_estimate\n",
    "\n",
    "    time = cur_time\n",
    "\n",
    "     # call Scipy's odeint function, \n",
    "    x_y_hat = odeint(func=rhs, y0=theta[-4:], t=time, args=(theta,))\n",
    "    data = pd.DataFrame(dict(\n",
    "        n1_relative = np.array(x_y_hat[:, 0]),\n",
    "        n2_relative = np.array(x_y_hat[:, 1]),\n",
    "        n3_relative = np.array(x_y_hat[:, 2]),\n",
    "        absolute_sum = np.array(x_y_hat[:, 3]),\n",
    "        n1_abs = np.array(real_value.iloc[:, 0]) * np.array(x_y_hat[:, 3]),\n",
    "        n2_abs = np.array(real_value.iloc[:, 1]) * np.array(x_y_hat[:, 3]),\n",
    "        n3_abs = np.array(real_value.iloc[:, 2]) * np.array(x_y_hat[:, 3]), \n",
    "    ))\n",
    "    for i in range (num_point-1):\n",
    "        data.loc[num_point+i] = (1/time_seg)*np.log(data.loc[i+1]) - (1/time_seg)*np.log(data.loc[i])\n",
    "        \n",
    "    \n",
    "    NM = num_iteration\n",
    "    distance = [None] * NM\n",
    "    distance_min = np.inf\n",
    "    theta_min = theta_estimate\n",
    "\n",
    "    for m in range(NM):\n",
    "        theta = theta_estimate\n",
    "        time = cur_time\n",
    "        \n",
    "        x_y_hat = odeint(func=rhs, y0=theta[-4:], t=time, args=(theta,))\n",
    "        dis_one = np.array(np.array(real_value.iloc[:, 0]) - x_y_hat[:, 0])\n",
    "        dis_two = np.array(np.array(real_value.iloc[:, 1]) - x_y_hat[:, 1])\n",
    "        dis_three = np.array(np.array(real_value.iloc[:, 2]) - x_y_hat[:, 2])\n",
    "        distance[m] = (np.sum(np.abs(dis_one)) + np.sum(np.abs(dis_two)) + np.sum(np.abs(dis_three)))/num_point\n",
    "        if distance[m] < distance_min:\n",
    "            distance_min = distance[m]\n",
    "            theta_min = theta_estimate\n",
    "    \n",
    "        data = pd.DataFrame(dict(\n",
    "            n1_relative = np.array(x_y_hat[:, 0]),\n",
    "            n2_relative = np.array(x_y_hat[:, 1]),\n",
    "            n3_relative = np.array(x_y_hat[:, 2]),\n",
    "            absolute_sum = np.array(x_y_hat[:, 3]),\n",
    "            n1_abs = np.array(real_value.iloc[:, 0]) * np.array(x_y_hat[:, 3]),\n",
    "            n2_abs = np.array(real_value.iloc[:, 1]) * np.array(x_y_hat[:, 3]),\n",
    "            n3_abs = np.array(real_value.iloc[:, 2]) * np.array(x_y_hat[:, 3]), \n",
    "    ))\n",
    "        \n",
    "        for i in range (num_point-1):\n",
    "            data.loc[num_point+i] = (1/time_seg)*np.log(data.loc[i+1]) - (1/time_seg)*np.log(data.loc[i])  \n",
    "    \n",
    "        x = pd.DataFrame(data.loc[0:num_point-2, [\"n2_abs\", \"n3_abs\"]])\n",
    "        y = pd.DataFrame(data.loc[num_point:2*num_point-2, \"n1_abs\"])\n",
    "        regr = linear_model.LinearRegression()\n",
    "        regr.fit(x, y)\n",
    "        r1_hat = regr.intercept_[0]\n",
    "        b12_hat = regr.coef_[0,0]\n",
    "        b13_hat = regr.coef_[0,1]\n",
    "    \n",
    "        x = pd.DataFrame(data.loc[0:num_point-2, [\"n1_abs\", \"n3_abs\"]])\n",
    "        y = pd.DataFrame(data.loc[num_point:2*num_point-2, \"n2_abs\"])\n",
    "        regr = linear_model.LinearRegression()\n",
    "        regr.fit(x, y)\n",
    "        r2_hat = regr.intercept_[0]\n",
    "        b21_hat = regr.coef_[0,0]\n",
    "        b23_hat = regr.coef_[0,1]\n",
    "    \n",
    "        x = pd.DataFrame(data.loc[0:num_point-2, [\"n1_abs\", \"n2_abs\"]])\n",
    "        y = pd.DataFrame(data.loc[num_point:2*num_point-2, \"n3_abs\"])\n",
    "        regr = linear_model.LinearRegression()\n",
    "        regr.fit(x, y)\n",
    "        r3_hat = regr.intercept_[0]\n",
    "        b31_hat = regr.coef_[0,0]\n",
    "        b32_hat = regr.coef_[0,1]\n",
    "    \n",
    "        theta_estimate = np.array([r1_hat, r2_hat, r3_hat, b12_hat, b13_hat, b21_hat, b23_hat, b31_hat, b32_hat, true_para[-4], true_para[-3], true_para[-2], n0_est])\n",
    "    \n",
    " \n",
    "    data = pd.DataFrame(dict(\n",
    "        year = cur_time,\n",
    "        n1_relative = np.array(real_value.iloc[:, 0]),\n",
    "        n2_relative = np.array(real_value.iloc[:, 1]),\n",
    "        n3_relative = np.array(real_value.iloc[:, 2]),\n",
    "    ))\n",
    "    \n",
    "    # function that calculates residuals based on a given theta\n",
    "    def ode_model_resid(thetab):\n",
    "        return (\n",
    "            np.abs(data[[\"n1_relative\", \"n2_relative\", \"n3_relative\"]] - np.delete(odeint(func=rhs, y0=thetab[-4:], t=time, args=(thetab,)), -1, axis=1))\n",
    "        ).values.flatten()\n",
    "\n",
    "    theta_est = theta_min\n",
    "    results = leastsq(ode_model_resid, x0=theta_est)\n",
    "    \n",
    "    theta = results[0]\n",
    "    time = cur_time\n",
    "\n",
    "    # call Scipy's odeint function0.015, \n",
    "    x_y = odeint(func=rhs, y0=theta[-4:], t=time, args=(theta,))\n",
    "    \n",
    "            \n",
    "    dis_one = np.array(np.array(real_value.iloc[:, 0]) - x_y[:, 0])\n",
    "    dis_two = np.array(np.array(real_value.iloc[:, 1]) - x_y[:, 1])\n",
    "    dis_three = np.array(np.array(real_value.iloc[:, 2]) - x_y[:, 2])\n",
    "    distance_sq[k] = (np.sum(np.abs(dis_one)) + np.sum(np.abs(dis_two)) + np.sum(np.abs(dis_three)))/num_point\n",
    "    cosiner_sq[k] = dot(results[0][:3], true_para[:3])/(norm(results[0][:3])*norm(true_para[:3]))\n",
    "    cosineb_sq[k] = dot(results[0][3:9], true_para[3:9])/(norm(results[0][3:9])*norm(true_para[3:9]))\n",
    "    if distance_sq[k] < min_distance:\n",
    "            min_distance = distance_sq[k]\n",
    "            min_theta = results[0]\n",
    "            method_used = \"sq\"\n",
    "    \n",
    "    \n",
    "    theta_est = theta_min\n",
    "    results = least_squares(ode_model_resid, x0=theta_est, method = 'trf')\n",
    "    \n",
    "    theta = results.x\n",
    "    time = cur_time\n",
    "\n",
    "    # call Scipy's odeint function0.015, \n",
    "    x_y = odeint(func=rhs, y0=theta[-4:], t=time, args=(theta,))\n",
    "    \n",
    "    dis_one = np.array(np.array(real_value.iloc[:, 0]) - x_y[:, 0])\n",
    "    dis_two = np.array(np.array(real_value.iloc[:, 1]) - x_y[:, 1])\n",
    "    dis_three = np.array(np.array(real_value.iloc[:, 2]) - x_y[:, 2])\n",
    "    distance_trf[k]= (np.sum(np.abs(dis_one)) + np.sum(np.abs(dis_two)) + np.sum(np.abs(dis_three)))/num_point\n",
    "    cosiner_trf[k] = dot(results.x[:3], true_para[:3])/(norm(results.x[:3])*norm(true_para[:3]))\n",
    "    cosineb_trf[k] = dot(results.x[3:9], true_para[3:9])/(norm(results.x[3:9])*norm(true_para[3:9]))\n",
    "    if distance_trf[k] < min_distance:\n",
    "        min_distance = distance_trf[k]\n",
    "        min_theta = results.x\n",
    "        method_used = \"trf\"\n",
    "    \n",
    "    theta_est = theta_min\n",
    "    results = least_squares(ode_model_resid, x0=theta_est, method = 'lm')\n",
    "    \n",
    "    theta = results.x\n",
    "    time = cur_time\n",
    "\n",
    "    # call Scipy's odeint function, \n",
    "    x_y = odeint(func=rhs, y0=theta[-4:], t=time, args=(theta,))\n",
    "    \n",
    "    dis_one = np.array(np.array(real_value.iloc[:, 0]) - x_y[:, 0])\n",
    "    dis_two = np.array(np.array(real_value.iloc[:, 1]) - x_y[:, 1])\n",
    "    dis_three = np.array(np.array(real_value.iloc[:, 2]) - x_y[:, 2])\n",
    "    distance_lm[k]= (np.sum(np.abs(dis_one)) + np.sum(np.abs(dis_two)) + np.sum(np.abs(dis_three)))/num_point\n",
    "    cosiner_lm[k] = dot(results.x[:3], true_para[:3])/(norm(results.x[:3])*norm(true_para[:3]))\n",
    "    cosineb_lm[k] = dot(results.x[3:9], true_para[3:9])/(norm(results.x[3:9])*norm(true_para[3:9]))\n",
    "    if distance_lm[k] < min_distance:\n",
    "        min_distance = distance_lm[k]\n",
    "        min_theta = results.x\n",
    "        method_used = \"lm\""
   ]
  },
  {
   "cell_type": "code",
   "execution_count": 4,
   "id": "619a5ce0-02e9-4246-aa66-9b2ad5eaf46f",
   "metadata": {},
   "outputs": [
    {
     "data": {
      "text/plain": [
       "array([ 3.10000000e-01, -6.00000000e-01,  2.90000000e-01, -7.08354020e-03,\n",
       "        7.79189420e-03,  6.37518618e-03, -7.08354021e-03, -8.50024824e-03,\n",
       "        1.06253103e-02,  3.00000000e-01,  5.00000000e-01,  2.00000000e-01,\n",
       "        1.41172348e+02])"
      ]
     },
     "execution_count": 4,
     "metadata": {},
     "output_type": "execute_result"
    }
   ],
   "source": [
    "min_theta"
   ]
  },
  {
   "cell_type": "code",
   "execution_count": 5,
   "id": "ab2c1073-3bb3-4d07-8ae9-17be7de7ee6c",
   "metadata": {},
   "outputs": [
    {
     "data": {
      "text/plain": [
       "'sq'"
      ]
     },
     "execution_count": 5,
     "metadata": {},
     "output_type": "execute_result"
    }
   ],
   "source": [
    "method_used"
   ]
  },
  {
   "cell_type": "code",
   "execution_count": 6,
   "id": "5a183d5f-d3aa-4113-986b-ef97dff2a3b3",
   "metadata": {},
   "outputs": [
    {
     "data": {
      "text/plain": [
       "4.803990712176631e-11"
      ]
     },
     "execution_count": 6,
     "metadata": {},
     "output_type": "execute_result"
    }
   ],
   "source": [
    "min_distance"
   ]
  },
  {
   "cell_type": "code",
   "execution_count": 7,
   "id": "8c4081c0-4e7c-4533-aac2-0d779a06792b",
   "metadata": {},
   "outputs": [],
   "source": [
    "min_cosiner = dot(min_theta[:3], true_para[:3])/(norm(min_theta[:3])*norm(true_para[:3]))\n",
    "min_cosineb = dot(min_theta[3:9], true_para[3:9])/(norm(min_theta[3:9])*norm(true_para[3:9]))"
   ]
  },
  {
   "cell_type": "code",
   "execution_count": 8,
   "id": "1916d935-392f-471e-9dc9-06f5d6297bed",
   "metadata": {},
   "outputs": [
    {
     "data": {
      "text/plain": [
       "1.0"
      ]
     },
     "execution_count": 8,
     "metadata": {},
     "output_type": "execute_result"
    }
   ],
   "source": [
    "min_cosiner"
   ]
  },
  {
   "cell_type": "code",
   "execution_count": 9,
   "id": "1999fbfc-851b-4b93-bffe-45c38765c79a",
   "metadata": {},
   "outputs": [
    {
     "data": {
      "text/plain": [
       "1.0"
      ]
     },
     "execution_count": 9,
     "metadata": {},
     "output_type": "execute_result"
    }
   ],
   "source": [
    "min_cosineb"
   ]
  },
  {
   "cell_type": "code",
   "execution_count": 10,
   "id": "d93a3404-f28b-4ff7-948d-fb0717eb7d51",
   "metadata": {},
   "outputs": [],
   "source": [
    "# plot model function\n",
    "def plot_model(\n",
    "    ax,\n",
    "    x_y,\n",
    "    time=cur_time,\n",
    "    alpha=0.5,\n",
    "    lw=1,\n",
    "):\n",
    "    ax.plot(time, x_y[:, 0], color=\"red\", alpha=alpha, lw=lw, label=\"Esitmated x1\")\n",
    "    ax.plot(time, x_y[:, 1], color=\"blue\", alpha=alpha, lw=lw, label=\"Estimated x2\")\n",
    "    ax.plot(time, x_y[:, 2], color=\"green\", alpha=alpha, lw=lw, label=\"Estimated x3\")\n",
    "    ax.legend(fontsize=16)\n",
    "    return ax"
   ]
  },
  {
   "cell_type": "code",
   "execution_count": 11,
   "id": "c1f63c27-ccf4-4c0b-90aa-8b0cba6fcf6e",
   "metadata": {},
   "outputs": [],
   "source": [
    "# plot data function for reuse later\n",
    "def plot_data(ax):\n",
    "    ax.plot(cur_time, real_value.n1_relative, color=\"red\", marker=\"o\", linestyle=\"None\", markersize=6, label=\"Observed x1\")\n",
    "    ax.plot(cur_time, real_value.n2_relative, color=\"blue\", marker=\"+\", linestyle=\"None\", markersize=6, label=\"Observed x2\")\n",
    "    ax.plot(cur_time, real_value.n3_relative, color=\"green\", marker=\"^\", linestyle=\"None\", markersize=6, label=\"Observed x3\")\n",
    "    ax.legend(fontsize=16)\n",
    "    ax.set_xlim([0, len(cur_time)*time_seg])\n",
    "    ax.set_xlabel(\"Time\", fontsize = 16)\n",
    "    ax.set_ylabel(\"Relative abundance\", fontsize = 16)\n",
    "    ax.set_xticks(data.year.astype(int))\n",
    "    ax.set_xticklabels(ax.get_xticks(), rotation=45)\n",
    "    ax.tick_params(axis='both', labelsize=14)\n",
    "    return ax"
   ]
  },
  {
   "cell_type": "code",
   "execution_count": 12,
   "id": "9c4c5833-3254-488c-8c42-f5b88199eb34",
   "metadata": {},
   "outputs": [
    {
     "data": {
      "text/plain": [
       "Text(0.5, 1.0, 'Average distance = 3.88e-2')"
      ]
     },
     "execution_count": 12,
     "metadata": {},
     "output_type": "execute_result"
    },
    {
     "data": {
      "image/png": "[encoded data removed]",
      "text/plain": [
       "<Figure size 900x600 with 1 Axes>"
      ]
     },
     "metadata": {},
     "output_type": "display_data"
    }
   ],
   "source": [
    "theta = min_theta\n",
    "time = cur_time\n",
    "\n",
    "# call Scipy's odeint function0.015, \n",
    "x_y = odeint(func=rhs, y0=theta[-4:], t=time, args=(theta,))\n",
    "\n",
    "# plot\n",
    "_, ax = plt.subplots(figsize=(9, 6))\n",
    "plot_model(ax, x_y);\n",
    "plot_data(ax)\n",
    "plt.title(\"Average distance = 3.88e-2\", fontsize = 18)\n",
    "#plt.savefig('result1_0.jpg')"
   ]
  },
  {
   "cell_type": "code",
   "execution_count": null,
   "id": "f365be5c-893e-44fb-9797-87b7f8fb1b0a",
   "metadata": {},
   "outputs": [],
   "source": []
  }
 ],
 "metadata": {
  "kernelspec": {
   "display_name": "Python 3 (ipykernel)",
   "language": "python",
   "name": "python3"
  },
  "language_info": {
   "codemirror_mode": {
    "name": "ipython",
    "version": 3
   },
   "file_extension": ".py",
   "mimetype": "text/x-python",
   "name": "python",
   "nbconvert_exporter": "python",
   "pygments_lexer": "ipython3",
   "version": "3.12.4"
  }
 },
 "nbformat": 4,
 "nbformat_minor": 5
}
