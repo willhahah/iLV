import arviz as az
import matplotlib.pyplot as plt
import numpy as np
import pandas as pd
import pymc as pm
import pytensor
import pytensor.tensor as pt
import math

from numba import njit
from pymc.ode import DifferentialEquation
from pytensor.compile.ops import as_op
from scipy.integrate import odeint
from scipy.optimize import least_squares
from scipy.optimize import leastsq

from sklearn import linear_model
from numpy.linalg import norm

import warnings
warnings.filterwarnings('ignore')


df = pd.read_csv('../Data/coculture.csv')
time_seg = 1
cur_time = np.array(df["year"])
#cur_time = np.arange(0, len(df), time_seg)
interval = [cur_time[i + 1] - cur_time[i] for i in range(len(cur_time) - 1)]
num_point = len(df)
#future_time = np.arange(0, 30, time_seg)
num_iteration = 200
n0_est = 100


@njit
def rhs(X, t, theta):
    # unpack parameters
    x, y, n = X
    r1, r2, b12, b21, x0, y0, n0 = theta
    # equations
    dn_dt = r1*x*n + r2*y*n + b12*x*y*n*n + b21*x*y*n*n
    dx_dt = (r1*x*n + b12*x*y*n*n - x*dn_dt)/n
    dy_dt = (r2*y*n + b21*x*y*n*n - y*dn_dt)/n
    
    return [dx_dt, dy_dt, dn_dt]

data = pd.DataFrame(dict(
    n1_relative = df["hare_rel"],
    n2_relative = df["lynx_rel"],
    n1_abs = df["hare_rel"] * n0_est,
    n2_abs = df["lynx_rel"] * n0_est, 
))

for i in range (num_point-1):
    data.loc[num_point+i] = (1/interval[i])*np.log(data.loc[i+1]) - (1/interval[i])*np.log(data.loc[i])

x = pd.DataFrame(data.loc[0:num_point-2, ["n2_abs"]])
y = pd.DataFrame(data.loc[num_point:2*num_point-2, "n1_abs"])

regr = linear_model.LinearRegression()
regr.fit(x, y)

r1_ini = regr.intercept_[0]
b12_ini = regr.coef_[0,0]

x = pd.DataFrame(data.loc[0:num_point-2, ["n1_abs"]])
y = pd.DataFrame(data.loc[num_point:2*num_point-2, "n2_abs"])

regr = linear_model.LinearRegression()
regr.fit(x, y)

r2_ini = regr.intercept_[0]
b21_ini = regr.coef_[0,0]

theta_estimate = np.array([r1_ini, r2_ini, b12_ini, b21_ini, df.iloc[0, -2], df.iloc[0, -1], n0_est])

real_value = pd.DataFrame(dict(
    n1_relative = df.iloc[:len(cur_time), -2],
    n2_relative = df.iloc[:len(cur_time), -1],
))


NM = num_iteration
distance = [None] * NM
distance_min = np.inf
theta_min = theta_estimate

for m in range(NM):
    theta = theta_estimate
    time = cur_time
        
    x_y_hat = odeint(func=rhs, y0=theta[-3:], t=time, args=(theta,))
    dis_one = (np.array(np.array(real_value.iloc[:, 0]) - x_y_hat[:, 0]))**2
    dis_two = (np.array(np.array(real_value.iloc[:, 1]) - x_y_hat[:, 1]))**2
    distance[m] = math.sqrt((np.sum(np.abs(dis_one)) + np.sum(np.abs(dis_two)))/num_point/2)
    if distance[m] < distance_min:
        distance_min = distance[m]
        theta_min = theta_estimate
    
    data = pd.DataFrame(dict(
        n1_relative = np.array(x_y_hat[:, 0]),
        n2_relative = np.array(x_y_hat[:, 1]),
        absolute_sum = np.array(x_y_hat[:, 2]),
        n1_abs = np.array(df["hare_rel"]) * np.array(x_y_hat[:, 2]),
        n2_abs = np.array(df["lynx_rel"]) * np.array(x_y_hat[:, 2]),
)) 

    for i in range (num_point-1):
        data.loc[num_point+i] = (1/interval[i])*np.log(data.loc[i+1]) - (1/interval[i])*np.log(data.loc[i])
        
    x = pd.DataFrame(data.loc[0:num_point-2, ["n2_abs"]])
    y = pd.DataFrame(data.loc[num_point:2*num_point-2, "n1_abs"])
    regr = linear_model.LinearRegression()
    regr.fit(x, y)
    r1_hat = regr.intercept_[0]
    b12_hat = regr.coef_[0,0]
    
    x = pd.DataFrame(data.loc[0:num_point-2, ["n1_abs"]])
    y = pd.DataFrame(data.loc[num_point:2*num_point-2, "n2_abs"])
    regr = linear_model.LinearRegression()
    regr.fit(x, y)
    r2_hat = regr.intercept_[0]
    b21_hat = regr.coef_[0,0]
    
    #theta_estimate = np.array([r1_hat, r2_hat, b12_hat, b21_hat, df.iloc[0, -2], df.iloc[0, -1], x_y_hat[0, 2]])
    theta_estimate = np.array([r1_hat, r2_hat, b12_hat, b21_hat, df.iloc[0, -2], df.iloc[0, -1], n0_est]) 

iter = np.arange(0, NM, 1)
plt.scatter(iter, distance)
plt.legend(["RMSE"])
plt.ylabel("Average distance")
plt.xlabel("Iteration")

plt.savefig("result3-1.png")

# function that calculates residuals based on a given theta
def ode_model_resid(thetab):
    return (
        np.abs(df[["hare_rel", "lynx_rel"]] - np.delete(odeint(func=rhs, y0=thetab[-3:], t=time, args=(thetab,)), -1, axis=1))
    ).values.flatten()


method_used = "None"
distance_sq = [None]
distance_trf = [None]
distance_lm = [None]

theta_est = theta_min

results = leastsq(ode_model_resid, x0=theta_est)
theta = results[0]
time = cur_time

# call Scipy's odeint function0.015, 
x_y = odeint(func=rhs, y0=theta[-3:], t=time, args=(theta,))

dis_one = (np.array(np.array(real_value.iloc[:, 0]) - x_y[:, 0]))**2
dis_two = (np.array(np.array(real_value.iloc[:, 1]) - x_y[:, 1]))**2
distance_sq = math.sqrt((np.sum(np.abs(dis_one)) + np.sum(np.abs(dis_two)))/num_point/2)
if distance_sq < distance_min:
    distance_min = distance_sq
    theta_min = results[0]
    method_used = "sq"


results = least_squares(ode_model_resid, x0=theta_est, method = 'trf')
theta = results.x
time = cur_time

# call Scipy's odeint function0.015, 
x_y = odeint(func=rhs, y0=theta[-3:], t=time, args=(theta,))

dis_one = (np.array(np.array(real_value.iloc[:, 0]) - x_y[:, 0]))**2
dis_two = (np.array(np.array(real_value.iloc[:, 1]) - x_y[:, 1]))**2
distance_trf = math.sqrt((np.sum(np.abs(dis_one)) + np.sum(np.abs(dis_two)))/num_point/2)
if distance_trf < distance_min:
    distance_min = distance_trf
    theta_min = results.x
    method_used = "trf"



results = least_squares(ode_model_resid, x0=theta_est, method = 'lm')
theta = results.x
time = cur_time

# call Scipy's odeint function, 
x_y = odeint(func=rhs, y0=theta[-3:], t=time, args=(theta,))

dis_one = (np.array(np.array(real_value.iloc[:, 0]) - x_y[:, 0]))**2
dis_two = (np.array(np.array(real_value.iloc[:, 1]) - x_y[:, 1]))**2
distance_lm = math.sqrt((np.sum(np.abs(dis_one)) + np.sum(np.abs(dis_two)))/num_point/2)
if distance_lm < distance_min:
    distance_min = distance_lm
    theta_min = results.x
    method_used = "lm"


# plot model function
def plot_model(
    ax,
    x_y,
    time=cur_time,
    alpha=0.5,
    lw=1,
):
    ax.plot(time, x_y[:, 0], color="red", alpha=alpha, lw=lw, label="Estimated S.p. relative")
    ax.plot(time, x_y[:, 1], color="blue", alpha=alpha, lw=lw, label="Estimated P.c. relative")
    ax.legend(fontsize=16)
    ax.legend(loc='center left', bbox_to_anchor=(1, 0.5))
    return ax


# plot data function for reuse later
def plot_data(ax, lw=1, time=cur_time):
    ax.plot(time, df.hare_rel, color="red", marker="o", label="Observed S.p. relative", linestyle="None", markersize=6)
    ax.plot(time, df.lynx_rel, color="blue", marker="+", label="Observed P.c. relative", linestyle="None", markersize=6)
    ax.legend(fontsize=18)
    ax.legend(loc='center left', bbox_to_anchor=(1, 0.5))
    ax.set_xlim([0, len(cur_time)*time_seg])
    ax.set_xlabel("Time", fontsize = 18)
    ax.set_ylabel("Relative abundance", fontsize = 18)
    ax.set_xticks(time.astype(int))
    ax.set_xticklabels(ax.get_xticks())
    ax.tick_params(axis='both', labelsize=16)
    return ax


theta = theta_min
time = cur_time

# call Scipy's odeint function0.015, 
x_y = odeint(func=rhs, y0=theta[-3:], t=time, args=(theta,))

# plot
_, ax = plt.subplots()
plot_model(ax, x_y);
plot_data(ax, lw=1)
ax.legend(loc='upper left', bbox_to_anchor=(1.01, 1), borderaxespad=0, fontsize=18)
plt.title("iLV", fontsize = 20)
plt.savefig("Fig4_1.pdf", dpi=300, bbox_inches="tight")
#plt.tight_layout(rect=[0, 0, 0.85, 1]) 


distance_min


method_used


theta_min


distance_glvr = np.inf
data = pd.DataFrame(dict(
    n1_relative = df["hare_rel"],
    n2_relative = df["lynx_rel"],
    n1_abs = df["hare_rel"] * n0_est,
    n2_abs = df["lynx_rel"] * n0_est, 
))

for i in range (num_point-1):
    data.loc[num_point+i] = (1/interval[i])*np.log(data.loc[i+1]) - (1/interval[i])*np.log(data.loc[i])

x = pd.DataFrame(data.loc[0:num_point-2, ["n2_abs"]])
y = pd.DataFrame(data.loc[num_point:2*num_point-2, "n1_abs"])

regr = linear_model.LinearRegression()
regr.fit(x, y)

r1_ini = regr.intercept_[0]
b12_ini = regr.coef_[0,0]

x = pd.DataFrame(data.loc[0:num_point-2, ["n1_abs"]])
y = pd.DataFrame(data.loc[num_point:2*num_point-2, "n2_abs"])

regr = linear_model.LinearRegression()
regr.fit(x, y)

r2_ini = regr.intercept_[0]
b21_ini = regr.coef_[0,0]

theta_glvr = np.array([r1_ini, r2_ini, b12_ini, b21_ini, df.iloc[0, -2], df.iloc[0, -1], n0_est])

real_value = pd.DataFrame(dict(
    n1_relative = df.iloc[:len(cur_time), -2],
    n2_relative = df.iloc[:len(cur_time), -1],
))

theta = theta_glvr
time = cur_time
x_y_hat = odeint(func=rhs, y0=theta[-3:], t=time, args=(theta,))
dis_one = (np.array(np.array(real_value.iloc[:, 0]) - x_y_hat[:, 0]))**2
dis_two = (np.array(np.array(real_value.iloc[:, 1]) - x_y_hat[:, 1]))**2
distance_glvr = math.sqrt((np.sum(np.abs(dis_one)) + np.sum(np.abs(dis_two)))/num_point/2)


distance_glvr


theta = theta_glvr
time = cur_time

# call Scipy's odeint function0.015, 
x_y = odeint(func=rhs, y0=theta[-3:], t=time, args=(theta,))

# plot
_, ax = plt.subplots()
plot_model(ax, x_y);
plot_data(ax, lw=1)
ax.legend(loc='upper left', bbox_to_anchor=(1.01, 1), borderaxespad=0, fontsize=18)
plt.title("gLV_relative", fontsize = 20)
plt.savefig("Fig4_2.pdf", dpi=300, bbox_inches="tight")


distance_glva = np.inf
data = pd.DataFrame(dict(
    n1_abs = df["hare_abs"],
    n2_abs = df["lynx_abs"], 
))

for i in range (num_point-1):
    data.loc[num_point+i] = (1/interval[i])*np.log(data.loc[i+1]) - (1/interval[i])*np.log(data.loc[i])

x = pd.DataFrame(data.loc[0:num_point-2, ["n2_abs"]])
y = pd.DataFrame(data.loc[num_point:2*num_point-2, "n1_abs"])

regr = linear_model.LinearRegression()
regr.fit(x, y)

r1_ini = regr.intercept_[0]
b12_ini = regr.coef_[0,0]

x = pd.DataFrame(data.loc[0:num_point-2, ["n1_abs"]])
y = pd.DataFrame(data.loc[num_point:2*num_point-2, "n2_abs"])

regr = linear_model.LinearRegression()
regr.fit(x, y)

r2_ini = regr.intercept_[0]
b21_ini = regr.coef_[0,0]

theta_glva = np.array([r1_ini, r2_ini, b12_ini, b21_ini, df.iloc[0, -2], df.iloc[0, -1], n0_est])

real_value = pd.DataFrame(dict(
    n1_relative = df.iloc[:len(cur_time), -2],
    n2_relative = df.iloc[:len(cur_time), -1],
))

theta = theta_glva
time = cur_time
x_y_hat = odeint(func=rhs, y0=theta[-3:], t=time, args=(theta,))
dis_one = (np.array(np.array(real_value.iloc[:, 0]) - x_y_hat[:, 0]))**2
dis_two = (np.array(np.array(real_value.iloc[:, 1]) - x_y_hat[:, 1]))**2
distance_glva = math.sqrt((np.sum(np.abs(dis_one)) + np.sum(np.abs(dis_two)))/num_point/2)


distance_glva


theta = theta_glva
time = cur_time

# call Scipy's odeint function0.015, 
x_y = odeint(func=rhs, y0=theta[-3:], t=time, args=(theta,))

# plot
_, ax = plt.subplots()
plot_model(ax, x_y);
plot_data(ax, lw=1)
ax.legend(loc='upper left', bbox_to_anchor=(1.01, 1), borderaxespad=0, fontsize=18)
plt.title("gLV_absolute", fontsize = 20)
plt.savefig("Fig4_3.pdf", dpi=300, bbox_inches="tight")



