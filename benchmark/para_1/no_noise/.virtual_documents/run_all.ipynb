import papermill as pm

notebooks = [
    "seg01.ipynb",
    "seg05.ipynb",
    "seg10.ipynb",
    "seg20.ipynb",
    "ran5.ipynb",
    "ran15.ipynb",
    "ran20.ipynb"
]

for notebook in notebooks:
    pm.execute_notebook(notebook, f"output_{notebook}")



