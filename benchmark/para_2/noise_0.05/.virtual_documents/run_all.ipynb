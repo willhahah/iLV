import papermill as pm

notebooks = [
    "noise05_ran15.ipynb",
    "noise05_ran20.ipynb",
    "noise05_ran5.ipynb",
    #"noise05_seg01.ipynb",
    "noise05_seg05.ipynb",
    #"noise05_seg10.ipynb",
    #"noise05_seg20.ipynb"
]

for notebook in notebooks:
    pm.execute_notebook(notebook, f"output_{notebook}")



