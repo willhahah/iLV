import papermill as pm

notebooks = [
    "noise1_ran15.ipynb",
    "noise1_ran20.ipynb",
    "noise1_ran5.ipynb",
    #"noise1_seg01.ipynb",
    "noise1_seg05.ipynb",
    #"noise1_seg10.ipynb",
    #"noise1_seg20.ipynb"
]

for notebook in notebooks:
    pm.execute_notebook(notebook, f"output_{notebook}")



